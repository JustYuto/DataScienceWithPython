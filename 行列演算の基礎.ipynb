{
  "nbformat": 4,
  "nbformat_minor": 0,
  "metadata": {
    "colab": {
      "provenance": [],
      "toc_visible": true,
      "authorship_tag": "ABX9TyO+WEwuI0dh2gwFeNXKQM0y",
      "include_colab_link": true
    },
    "kernelspec": {
      "name": "python3",
      "display_name": "Python 3"
    },
    "language_info": {
      "name": "python"
    }
  },
  "cells": [
    {
      "cell_type": "markdown",
      "metadata": {
        "id": "view-in-github",
        "colab_type": "text"
      },
      "source": [
        "<a href=\"https://colab.research.google.com/github/JustYuto/DataScienceWithPython/blob/main/%E8%A1%8C%E5%88%97%E6%BC%94%E7%AE%97%E3%81%AE%E5%9F%BA%E7%A4%8E.ipynb\" target=\"_parent\"><img src=\"https://colab.research.google.com/assets/colab-badge.svg\" alt=\"Open In Colab\"/></a>"
      ]
    },
    {
      "cell_type": "markdown",
      "source": [
        "##行列演算の基礎\n",
        "\n",
        "必要な知識\n",
        "\n",
        "*   ベクトルの定義\n",
        "*   行列の定義\n",
        "* 転置\n",
        "* 逆行列\n",
        "*行列積\n",
        "\n",
        "\n"
      ],
      "metadata": {
        "id": "PcWnuukghdTh"
      }
    },
    {
      "cell_type": "code",
      "source": [
        "import numpy as np"
      ],
      "metadata": {
        "id": "RmFIidxMhxsR"
      },
      "execution_count": null,
      "outputs": []
    },
    {
      "cell_type": "code",
      "source": [
        "# ベクトルの定義\n",
        "x = np.array([[1], [2], [3]])\n",
        "x"
      ],
      "metadata": {
        "colab": {
          "base_uri": "https://localhost:8080/"
        },
        "id": "0hsCE3pdh6wI",
        "outputId": "9f7358d4-c451-46cd-9aeb-5dc42deea063"
      },
      "execution_count": null,
      "outputs": [
        {
          "output_type": "execute_result",
          "data": {
            "text/plain": [
              "array([[1],\n",
              "       [2],\n",
              "       [3]])"
            ]
          },
          "metadata": {},
          "execution_count": 2
        }
      ]
    },
    {
      "cell_type": "code",
      "source": [
        "x.shape #(行, 列)を表示"
      ],
      "metadata": {
        "colab": {
          "base_uri": "https://localhost:8080/"
        },
        "id": "NLPzXWExiDoG",
        "outputId": "dbf18bfd-659d-4ce8-c5b5-5267f5be74e2"
      },
      "execution_count": null,
      "outputs": [
        {
          "output_type": "execute_result",
          "data": {
            "text/plain": [
              "(3, 1)"
            ]
          },
          "metadata": {},
          "execution_count": 3
        }
      ]
    },
    {
      "cell_type": "code",
      "source": [
        "#行列の定義\n",
        "X=np.array([[1,2], [3,4]])\n",
        "X"
      ],
      "metadata": {
        "colab": {
          "base_uri": "https://localhost:8080/"
        },
        "id": "5hmTHYERiI8u",
        "outputId": "38ad99eb-8807-47d2-88dd-a6a19c2282e1"
      },
      "execution_count": null,
      "outputs": [
        {
          "output_type": "execute_result",
          "data": {
            "text/plain": [
              "array([[1, 2],\n",
              "       [3, 4]])"
            ]
          },
          "metadata": {},
          "execution_count": 5
        }
      ]
    },
    {
      "cell_type": "code",
      "source": [
        "#転置(Transpose)\n",
        "Xt=X.T\n",
        "Xt"
      ],
      "metadata": {
        "colab": {
          "base_uri": "https://localhost:8080/"
        },
        "id": "PUOcuk3iiZhK",
        "outputId": "eb7f51f4-da43-4e4b-f46d-fcd94197ee4f"
      },
      "execution_count": null,
      "outputs": [
        {
          "output_type": "execute_result",
          "data": {
            "text/plain": [
              "array([[1, 3],\n",
              "       [2, 4]])"
            ]
          },
          "metadata": {},
          "execution_count": 8
        }
      ]
    },
    {
      "cell_type": "code",
      "source": [
        "#逆行列(linag : linear algebra (線形代数))\n",
        "X_inv=np.linalg.inv(X)\n",
        "X_inv"
      ],
      "metadata": {
        "colab": {
          "base_uri": "https://localhost:8080/"
        },
        "id": "8v5i4r-8ikrS",
        "outputId": "2dd565e0-c0e1-4df0-8ee6-f57c8169a066"
      },
      "execution_count": null,
      "outputs": [
        {
          "output_type": "execute_result",
          "data": {
            "text/plain": [
              "array([[-2. ,  1. ],\n",
              "       [ 1.5, -0.5]])"
            ]
          },
          "metadata": {},
          "execution_count": 11
        }
      ]
    },
    {
      "cell_type": "code",
      "source": [
        "#行列積\n",
        "XX_inv=np.dot(X, X_inv)\n",
        "XX_inv"
      ],
      "metadata": {
        "colab": {
          "base_uri": "https://localhost:8080/"
        },
        "id": "BDt3Lb5tiwWx",
        "outputId": "99dc429e-4bd1-463e-b0f3-242b18a16a46"
      },
      "execution_count": null,
      "outputs": [
        {
          "output_type": "execute_result",
          "data": {
            "text/plain": [
              "array([[1.0000000e+00, 0.0000000e+00],\n",
              "       [8.8817842e-16, 1.0000000e+00]])"
            ]
          },
          "metadata": {},
          "execution_count": 13
        }
      ]
    },
    {
      "cell_type": "markdown",
      "source": [
        "## 【補足】NumPyでよく使用する処理"
      ],
      "metadata": {
        "id": "vAtJgNAUjf1_"
      }
    },
    {
      "cell_type": "code",
      "source": [
        "B = np.array([\n",
        "              [1,2,3],\n",
        "              [2,3,4]\n",
        "])\n",
        "B"
      ],
      "metadata": {
        "colab": {
          "base_uri": "https://localhost:8080/"
        },
        "id": "fjsiMt-AjPpL",
        "outputId": "3d2dbf14-ba6d-4ca0-e1ae-79043ee721c3"
      },
      "execution_count": null,
      "outputs": [
        {
          "output_type": "execute_result",
          "data": {
            "text/plain": [
              "array([[1, 2, 3],\n",
              "       [2, 3, 4]])"
            ]
          },
          "metadata": {},
          "execution_count": 15
        }
      ]
    },
    {
      "cell_type": "code",
      "source": [
        "row, col = B.shape #行(row)と列(colums)にそれぞれの値を代入"
      ],
      "metadata": {
        "id": "z7eiwDgujzwz"
      },
      "execution_count": null,
      "outputs": []
    },
    {
      "cell_type": "code",
      "source": [
        "row"
      ],
      "metadata": {
        "colab": {
          "base_uri": "https://localhost:8080/"
        },
        "id": "ocfiwXWvj2nL",
        "outputId": "7c71842e-c77e-444d-e0aa-ea75bc416e61"
      },
      "execution_count": null,
      "outputs": [
        {
          "output_type": "execute_result",
          "data": {
            "text/plain": [
              "2"
            ]
          },
          "metadata": {},
          "execution_count": 18
        }
      ]
    },
    {
      "cell_type": "code",
      "source": [
        "col"
      ],
      "metadata": {
        "colab": {
          "base_uri": "https://localhost:8080/"
        },
        "id": "R2wauLPzj78_",
        "outputId": "40e07f28-3783-4d89-8205-da788ad48d1e"
      },
      "execution_count": null,
      "outputs": [
        {
          "output_type": "execute_result",
          "data": {
            "text/plain": [
              "3"
            ]
          },
          "metadata": {},
          "execution_count": 19
        }
      ]
    },
    {
      "cell_type": "code",
      "source": [
        "for b in B:\n",
        "  print(b)\n",
        "  print('--------')"
      ],
      "metadata": {
        "colab": {
          "base_uri": "https://localhost:8080/"
        },
        "id": "Eg63nREgj89u",
        "outputId": "6dd0d9fd-1e1d-41dd-9cc7-c522d21c0e39"
      },
      "execution_count": null,
      "outputs": [
        {
          "output_type": "stream",
          "name": "stdout",
          "text": [
            "[1 2 3]\n",
            "--------\n",
            "[2 3 4]\n",
            "--------\n"
          ]
        }
      ]
    },
    {
      "cell_type": "code",
      "source": [],
      "metadata": {
        "id": "4NXDHkDWkJh9"
      },
      "execution_count": null,
      "outputs": []
    }
  ]
}